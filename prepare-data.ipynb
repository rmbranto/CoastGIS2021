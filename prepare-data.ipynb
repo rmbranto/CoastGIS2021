{
 "cells": [
  {
   "cell_type": "code",
   "execution_count": 1,
   "id": "8fac1632",
   "metadata": {},
   "outputs": [
    {
     "name": "stderr",
     "output_type": "stream",
     "text": [
      "Registered S3 method overwritten by 'hoardr':\n",
      "  method           from\n",
      "  print.cache_info httr\n",
      "Linking to GEOS 3.9.1, GDAL 3.3.0, PROJ 8.0.0\n"
     ]
    }
   ],
   "source": [
    "# rmbranto 2021/08\n",
    "# Demonstrate R programming lanquage 'spocc', 'scrubr' and 'ggplot2' packages to retrieve and combine\n",
    "# selected invasive species occurrence data from multiple source, see also: \n",
    "# https://ocean.si.edu/ocean-life/5-invasive-species-you-should-know \n",
    "# https://docs.ropensci.org/spocc/\n",
    "\n",
    "fName<-'invasives.rda'\n",
    "limit<-9999\n",
    "\n",
    "options(stringsAsFactors = FALSE)\n",
    "library(spocc)\n",
    "library(rinat)\n",
    "library(sparsesvd)\n",
    "library(scrubr)\n",
    "library(stringr)\n",
    "library(plyr)\n",
    "library(sf)"
   ]
  },
  {
   "cell_type": "code",
   "execution_count": 2,
   "id": "f3837541",
   "metadata": {},
   "outputs": [],
   "source": [
    "extract<-FALSE\n",
    "pNames<-c('ala','bison','gbif','eBird','idigbio','obis','VertNet')\n",
    "qNames<-c('Carcinus maenas','Caulerpa taxifolia','Codium fragile','Dreissena polymorpha','Mnemiopsis leidyi','Pterois volitans','Rapana venosa')\n",
    "cNames<-c('European Green Crab','Killer Algae','Dead Mans Fingers','Zebra Mussel','Sea Walnut','Lion Fish','Veined Rapa Whelk') # invasive\n",
    "sColors<-c('green','cyan','magenta','red','orange','yellow','dodgerblue')\n",
    "fImages<-c('https://upload.wikimedia.org/wikipedia/commons/1/17/Carcinus_maenas.jpg',\n",
    "           'https://inaturalist-open-data.s3.amazonaws.com/photos/9434207/medium.jpg?1501502101',\n",
    "           'https://upload.wikimedia.org/wikipedia/commons/e/ed/Codiumfragile.jpg',\n",
    "           'https://upload.wikimedia.org/wikipedia/commons/thumb/a/a4/Dreissena_polymorpha_(Zebra_mussel),_Arnhem,_the_Netherlands.jpg/500px-Dreissena_polymorpha_(Zebra_mussel),_Arnhem,_the_Netherlands.jpg',\n",
    "           'https://inaturalist-open-data.s3.amazonaws.com/photos/9566101/medium.jpg?1545697239',\n",
    "           'https://static.inaturalist.org/photos/13375992/medium.jpg?1518045182',\n",
    "           'https://inaturalist-open-data.s3.amazonaws.com/photos/5026554/medium.jpg?1474961472')\n",
    "\n",
    "species.style<-data.frame(Names=qNames,cNames=cNames,sColors=sColors,fImages=fImages,stringsAsFactors = FALSE)"
   ]
  },
  {
   "cell_type": "code",
   "execution_count": 36,
   "id": "0a8cf18c",
   "metadata": {},
   "outputs": [],
   "source": [
    "prov.style<-data.frame(\n",
    "    prov = c(\"UNIQUE\",\"DUPS\",\"ala\",\"bison\",\"bold\",\"gbif\",\"idigbio\",\"inat\",\"obis\"),\n",
    "    id=c('UNI','DUP','ala','bis','bol','gbi','idi','ina','obi'),\n",
    "    color = c(\"grey\", \"white\", \"red\", \"orange\", \"yellow\", \"green\", \"cyan\", \"dodgerblue\", \"magenta\"),\n",
    "    order=c(8,9,1:7))"
   ]
  },
  {
   "cell_type": "code",
   "execution_count": null,
   "id": "eeaff0f3",
   "metadata": {},
   "outputs": [],
   "source": [
    "if(extract){\n",
    "do.extract<-function(qName=qNames[1],limit=9999){\n",
    "\n",
    "    df1<-data.frame(qName=qName,\n",
    "                    occ2df(occ(query = qName, from=pNames, limit=limit, has_coords = TRUE)))\n",
    "\n",
    "    df2<-get_inat_obs(\n",
    "            query=qName,quality=\"research\",\n",
    "            geo=TRUE,\n",
    "            maxresults=limit)\n",
    "    \n",
    "    df2<-data.frame(qName=qName,\n",
    "              name=df2$scientific_name,\n",
    "              longitude=df2$longitude,\n",
    "              latitude=df2$latitude,\n",
    "              prov='inat',\n",
    "              date=df2$datetime,\n",
    "              key=df2$id)\n",
    "\n",
    "    return(rbind(df1,df2))\n",
    "}\n",
    "\n",
    "df<-NULL\n",
    "for(qName in qNames){\n",
    "    cat(qName,'...\\n')\n",
    "    df<-rbind(df,do.extract(qName,limit))\n",
    "    }\n",
    "\n",
    "nrow(df)\n",
    "table(df$qName,df$prov)\n",
    "df.raw<-df\n",
    "}"
   ]
  },
  {
   "cell_type": "code",
   "execution_count": 3,
   "id": "d92f8564",
   "metadata": {},
   "outputs": [
    {
     "data": {
      "text/html": [
       "98046"
      ],
      "text/latex": [
       "98046"
      ],
      "text/markdown": [
       "98046"
      ],
      "text/plain": [
       "[1] 98046"
      ]
     },
     "metadata": {},
     "output_type": "display_data"
    },
    {
     "data": {
      "text/html": [
       "<style>\n",
       ".list-inline {list-style: none; margin:0; padding: 0}\n",
       ".list-inline>li {display: inline-block}\n",
       ".list-inline>li:not(:last-child)::after {content: \"\\00b7\"; padding: 0 .5ex}\n",
       "</style>\n",
       "<ol class=list-inline><li>'qName'</li><li>'name'</li><li>'longitude'</li><li>'latitude'</li><li>'prov'</li><li>'date'</li><li>'key'</li></ol>\n"
      ],
      "text/latex": [
       "\\begin{enumerate*}\n",
       "\\item 'qName'\n",
       "\\item 'name'\n",
       "\\item 'longitude'\n",
       "\\item 'latitude'\n",
       "\\item 'prov'\n",
       "\\item 'date'\n",
       "\\item 'key'\n",
       "\\end{enumerate*}\n"
      ],
      "text/markdown": [
       "1. 'qName'\n",
       "2. 'name'\n",
       "3. 'longitude'\n",
       "4. 'latitude'\n",
       "5. 'prov'\n",
       "6. 'date'\n",
       "7. 'key'\n",
       "\n",
       "\n"
      ],
      "text/plain": [
       "[1] \"qName\"     \"name\"      \"longitude\" \"latitude\"  \"prov\"      \"date\"     \n",
       "[7] \"key\"      "
      ]
     },
     "metadata": {},
     "output_type": "display_data"
    }
   ],
   "source": [
    "load(fName) ; nrow(df.raw); names(df.raw)"
   ]
  },
  {
   "cell_type": "code",
   "execution_count": 4,
   "id": "f8452fd4",
   "metadata": {},
   "outputs": [
    {
     "name": "stderr",
     "output_type": "stream",
     "text": [
      "Assuming 'latitude' is latitude\n",
      "Assuming 'longitude' is longitude\n"
     ]
    },
    {
     "data": {
      "text/html": [
       "79980"
      ],
      "text/latex": [
       "79980"
      ],
      "text/markdown": [
       "79980"
      ],
      "text/plain": [
       "[1] 79980"
      ]
     },
     "metadata": {},
     "output_type": "display_data"
    },
    {
     "data": {
      "text/html": [
       "<style>\n",
       ".list-inline {list-style: none; margin:0; padding: 0}\n",
       ".list-inline>li {display: inline-block}\n",
       ".list-inline>li:not(:last-child)::after {content: \"\\00b7\"; padding: 0 .5ex}\n",
       "</style>\n",
       "<ol class=list-inline><li><time datetime=\"1758-07-02\">1758-07-02</time></li><li><time datetime=\"2021-08-09\">2021-08-09</time></li></ol>\n"
      ],
      "text/latex": [
       "\\begin{enumerate*}\n",
       "\\item 1758-07-02\n",
       "\\item 2021-08-09\n",
       "\\end{enumerate*}\n"
      ],
      "text/markdown": [
       "1. 1758-07-02\n",
       "2. 2021-08-09\n",
       "\n",
       "\n"
      ],
      "text/plain": [
       "[1] \"1758-07-02\" \"2021-08-09\""
      ]
     },
     "metadata": {},
     "output_type": "display_data"
    }
   ],
   "source": [
    "# data scrubbing\n",
    "\n",
    "df<-df.raw\n",
    "names(df)[1]<-'species'\n",
    "\n",
    "# add prov='bold'    \n",
    "df$prov[substr(df$name,1,4)=='BOLD']<-'bold'\n",
    "\n",
    "# fix coordinates\n",
    "\n",
    "df$latitude<-as.numeric(df$latitude)\n",
    "df$longitude<-as.numeric(df$longitude)\n",
    "\n",
    "df<-dframe(df) %>%\n",
    "    coord_impossible() %>%\n",
    "    coord_incomplete() %>%\n",
    "    coord_unlikely()\n",
    "\n",
    "# fix dates ...\n",
    "df<-df[!is.na(df$date),]\n",
    "df<-df[as.character(df$date)>'1111-11-11',]\n",
    "\n",
    "df<-df[df$date<=Sys.Date(),]\n",
    "\n",
    "df.clean<-df\n",
    "nrow(df.clean)\n",
    "range(df.clean$date)"
   ]
  },
  {
   "cell_type": "code",
   "execution_count": 5,
   "id": "2d996d41",
   "metadata": {},
   "outputs": [],
   "source": [
    "# dedup ???\n",
    "\n",
    "if(FALSE){\n",
    "    smalldf<-df.clean[df.clean$species=='Pterois volitans',]\n",
    "    smalldf<-smalldf[1:1000,]\n",
    "    NROW(smalldf)\n",
    "    dp <- dframe(smalldf) %>% dedup()\n",
    "    NROW(dp)\n",
    "    attr(dp, \"dups\")\n",
    "}"
   ]
  },
  {
   "cell_type": "code",
   "execution_count": 6,
   "id": "570f6306",
   "metadata": {},
   "outputs": [
    {
     "data": {
      "text/html": [
       "<table class=\"dataframe\">\n",
       "<caption>A matrix: 8 × 9 of type int</caption>\n",
       "<thead>\n",
       "\t<tr><th></th><th scope=col>ala</th><th scope=col>bison</th><th scope=col>bold</th><th scope=col>gbif</th><th scope=col>idigbio</th><th scope=col>inat</th><th scope=col>obis</th><th scope=col>UNIQUE</th><th scope=col>DUPS</th></tr>\n",
       "</thead>\n",
       "<tbody>\n",
       "\t<tr><th scope=row>Carcinus maenas</th><td> 203</td><td>1327</td><td> 7</td><td> 8675</td><td> 110</td><td> 6456</td><td> 7180</td><td>23569</td><td> 366</td></tr>\n",
       "\t<tr><th scope=row>Caulerpa taxifolia</th><td> 378</td><td> 181</td><td> 0</td><td>  955</td><td> 304</td><td>   53</td><td>  490</td><td> 1800</td><td> 391</td></tr>\n",
       "\t<tr><th scope=row>Codium fragile</th><td> 389</td><td>1121</td><td> 0</td><td> 5156</td><td> 721</td><td> 2314</td><td>  559</td><td> 9111</td><td>1070</td></tr>\n",
       "\t<tr><th scope=row>Dreissena polymorpha</th><td>   0</td><td>4504</td><td> 8</td><td> 8896</td><td> 504</td><td> 1270</td><td>  394</td><td>13533</td><td>2029</td></tr>\n",
       "\t<tr><th scope=row>Mnemiopsis leidyi</th><td>   0</td><td>  77</td><td> 0</td><td>  973</td><td>   6</td><td>  258</td><td> 1812</td><td> 2773</td><td> 349</td></tr>\n",
       "\t<tr><th scope=row>Pterois volitans</th><td> 496</td><td> 661</td><td> 0</td><td> 3290</td><td> 221</td><td> 1462</td><td> 2159</td><td> 7579</td><td> 665</td></tr>\n",
       "\t<tr><th scope=row>Rapana venosa</th><td>   0</td><td>   0</td><td> 1</td><td>  242</td><td>   9</td><td>  181</td><td>  140</td><td>  549</td><td>  24</td></tr>\n",
       "\t<tr><th scope=row></th><td>1466</td><td>7871</td><td>16</td><td>28187</td><td>1875</td><td>11994</td><td>12734</td><td>58914</td><td>4894</td></tr>\n",
       "</tbody>\n",
       "</table>\n"
      ],
      "text/latex": [
       "A matrix: 8 × 9 of type int\n",
       "\\begin{tabular}{r|lllllllll}\n",
       "  & ala & bison & bold & gbif & idigbio & inat & obis & UNIQUE & DUPS\\\\\n",
       "\\hline\n",
       "\tCarcinus maenas &  203 & 1327 &  7 &  8675 &  110 &  6456 &  7180 & 23569 &  366\\\\\n",
       "\tCaulerpa taxifolia &  378 &  181 &  0 &   955 &  304 &    53 &   490 &  1800 &  391\\\\\n",
       "\tCodium fragile &  389 & 1121 &  0 &  5156 &  721 &  2314 &   559 &  9111 & 1070\\\\\n",
       "\tDreissena polymorpha &    0 & 4504 &  8 &  8896 &  504 &  1270 &   394 & 13533 & 2029\\\\\n",
       "\tMnemiopsis leidyi &    0 &   77 &  0 &   973 &    6 &   258 &  1812 &  2773 &  349\\\\\n",
       "\tPterois volitans &  496 &  661 &  0 &  3290 &  221 &  1462 &  2159 &  7579 &  665\\\\\n",
       "\tRapana venosa &    0 &    0 &  1 &   242 &    9 &   181 &   140 &   549 &   24\\\\\n",
       "\t & 1466 & 7871 & 16 & 28187 & 1875 & 11994 & 12734 & 58914 & 4894\\\\\n",
       "\\end{tabular}\n"
      ],
      "text/markdown": [
       "\n",
       "A matrix: 8 × 9 of type int\n",
       "\n",
       "| <!--/--> | ala | bison | bold | gbif | idigbio | inat | obis | UNIQUE | DUPS |\n",
       "|---|---|---|---|---|---|---|---|---|---|\n",
       "| Carcinus maenas |  203 | 1327 |  7 |  8675 |  110 |  6456 |  7180 | 23569 |  366 |\n",
       "| Caulerpa taxifolia |  378 |  181 |  0 |   955 |  304 |    53 |   490 |  1800 |  391 |\n",
       "| Codium fragile |  389 | 1121 |  0 |  5156 |  721 |  2314 |   559 |  9111 | 1070 |\n",
       "| Dreissena polymorpha |    0 | 4504 |  8 |  8896 |  504 |  1270 |   394 | 13533 | 2029 |\n",
       "| Mnemiopsis leidyi |    0 |   77 |  0 |   973 |    6 |   258 |  1812 |  2773 |  349 |\n",
       "| Pterois volitans |  496 |  661 |  0 |  3290 |  221 |  1462 |  2159 |  7579 |  665 |\n",
       "| Rapana venosa |    0 |    0 |  1 |   242 |    9 |   181 |   140 |   549 |   24 |\n",
       "| <!----> | 1466 | 7871 | 16 | 28187 | 1875 | 11994 | 12734 | 58914 | 4894 |\n",
       "\n"
      ],
      "text/plain": [
       "                     ala  bison bold gbif  idigbio inat  obis  UNIQUE DUPS\n",
       "Carcinus maenas       203 1327   7    8675  110     6456  7180 23569   366\n",
       "Caulerpa taxifolia    378  181   0     955  304       53   490  1800   391\n",
       "Codium fragile        389 1121   0    5156  721     2314   559  9111  1070\n",
       "Dreissena polymorpha    0 4504   8    8896  504     1270   394 13533  2029\n",
       "Mnemiopsis leidyi       0   77   0     973    6      258  1812  2773   349\n",
       "Pterois volitans      496  661   0    3290  221     1462  2159  7579   665\n",
       "Rapana venosa           0    0   1     242    9      181   140   549    24\n",
       "                     1466 7871  16   28187 1875    11994 12734 58914  4894"
      ]
     },
     "metadata": {},
     "output_type": "display_data"
    },
    {
     "data": {
      "text/html": [
       "<style>\n",
       ".list-inline {list-style: none; margin:0; padding: 0}\n",
       ".list-inline>li {display: inline-block}\n",
       ".list-inline>li:not(:last-child)::after {content: \"\\00b7\"; padding: 0 .5ex}\n",
       "</style>\n",
       "<ol class=list-inline><li><time datetime=\"1758-07-02\">1758-07-02</time></li><li><time datetime=\"2021-08-09\">2021-08-09</time></li></ol>\n"
      ],
      "text/latex": [
       "\\begin{enumerate*}\n",
       "\\item 1758-07-02\n",
       "\\item 2021-08-09\n",
       "\\end{enumerate*}\n"
      ],
      "text/markdown": [
       "1. 1758-07-02\n",
       "2. 2021-08-09\n",
       "\n",
       "\n"
      ],
      "text/plain": [
       "[1] \"1758-07-02\" \"2021-08-09\""
      ]
     },
     "metadata": {},
     "output_type": "display_data"
    },
    {
     "data": {
      "text/html": [
       "<style>\n",
       ".list-inline {list-style: none; margin:0; padding: 0}\n",
       ".list-inline>li {display: inline-block}\n",
       ".list-inline>li:not(:last-child)::after {content: \"\\00b7\"; padding: 0 .5ex}\n",
       "</style>\n",
       "<ol class=list-inline><li>'prov'</li><li>'species'</li><li>'year'</li><li>'date'</li><li>'longitude'</li><li>'latitude'</li><li>'OCCS'</li><li>'DUPS'</li></ol>\n"
      ],
      "text/latex": [
       "\\begin{enumerate*}\n",
       "\\item 'prov'\n",
       "\\item 'species'\n",
       "\\item 'year'\n",
       "\\item 'date'\n",
       "\\item 'longitude'\n",
       "\\item 'latitude'\n",
       "\\item 'OCCS'\n",
       "\\item 'DUPS'\n",
       "\\end{enumerate*}\n"
      ],
      "text/markdown": [
       "1. 'prov'\n",
       "2. 'species'\n",
       "3. 'year'\n",
       "4. 'date'\n",
       "5. 'longitude'\n",
       "6. 'latitude'\n",
       "7. 'OCCS'\n",
       "8. 'DUPS'\n",
       "\n",
       "\n"
      ],
      "text/plain": [
       "[1] \"prov\"      \"species\"   \"year\"      \"date\"      \"longitude\" \"latitude\" \n",
       "[7] \"OCCS\"      \"DUPS\"     "
      ]
     },
     "metadata": {},
     "output_type": "display_data"
    },
    {
     "data": {
      "text/html": [
       "127951"
      ],
      "text/latex": [
       "127951"
      ],
      "text/markdown": [
       "127951"
      ],
      "text/plain": [
       "[1] 127951"
      ]
     },
     "metadata": {},
     "output_type": "display_data"
    }
   ],
   "source": [
    "# find UNIQUEs and DUPS\n",
    "\n",
    "df.agg<-aggregate(OCCS~species+longitude+latitude+prov+date,data=data.frame(df.clean,OCCS=1),sum) \n",
    "df.unique<-count(df.agg,c('species','longitude','latitude','date','OCCS'))\n",
    "names(df.unique)[dim(df.unique)[2]]<-'DUPS'\n",
    "\n",
    "# save UNIQUE into df.prov\n",
    "\n",
    "df.agg$DUPS<-1\n",
    "df.unique$prov<-'UNIQUE'\n",
    "df.unique<-df.unique[,c(1:3,7,4:6)]\n",
    "df.prov<-rbind(df.agg,df.unique)\n",
    "df.prov$year<-as.integer(substr(as.character(df.prov$date),1,4))\n",
    "df.prov<-df.prov[,c(4,1,8,5,2:3,6:7)]\n",
    "\n",
    "# save DUPS into df.prov\n",
    "\n",
    "df.dups<-df.prov[df.prov$prov=='UNIQUE' & df.prov$DUPS>1,]\n",
    "df.dups$prov<-'DUPS'\n",
    "df.dups$DUPS<-df.dups$DUPS-1\n",
    "df.dups$OCCS<-df.dups$DUPS*df.dups$OCCS\n",
    "df.prov<-rbind(df.prov,df.dups)\n",
    "\n",
    "xtab<-table(df.prov$species,df.prov$prov)\n",
    "rbind(xtab,apply(xtab,2,sum))[,c(1:3,5:8,9,4)]\n",
    "range(df.prov$date)\n",
    "names(df.prov)\n",
    "nrow(df.prov)"
   ]
  },
  {
   "cell_type": "code",
   "execution_count": 7,
   "id": "f24325ff",
   "metadata": {},
   "outputs": [
    {
     "name": "stderr",
     "output_type": "stream",
     "text": [
      "although coordinates are longitude/latitude, st_intersects assumes that they are planar\n",
      "although coordinates are longitude/latitude, st_intersects assumes that they are planar\n"
     ]
    },
    {
     "data": {
      "text/html": [
       "44993"
      ],
      "text/latex": [
       "44993"
      ],
      "text/markdown": [
       "44993"
      ],
      "text/plain": [
       "[1] 44993"
      ]
     },
     "metadata": {},
     "output_type": "display_data"
    }
   ],
   "source": [
    "# eez and fao indexing\n",
    "\n",
    "prov.pts<-count(df.prov,c('latitude','longitude'))[,1:2]\n",
    "\n",
    "eez.shp<-st_read(\"/home/bobbranton/geoserver/data_dir/eez/EEZ_Land_v3_202030.shp\",quiet=TRUE)\n",
    "eez.pts<-st_as_sf(prov.pts,coords = c('longitude','latitude'), crs = st_crs(eez.shp))\n",
    "eez.intersect<-data.frame(st_intersects(eez.pts, eez.shp))\n",
    "nrow(eez.intersect)\n",
    "\n",
    "prov.pts$eez='UNK'\n",
    "for(i in 1:nrow(eez.intersect)){\n",
    "    prov.pts$eez[eez.intersect$row.id[i]]<-eez.shp$ISO_TER1[eez.intersect$col.id[i]]    \n",
    "}"
   ]
  },
  {
   "cell_type": "code",
   "execution_count": 8,
   "id": "e073a446",
   "metadata": {},
   "outputs": [
    {
     "name": "stderr",
     "output_type": "stream",
     "text": [
      "although coordinates are longitude/latitude, st_intersects assumes that they are planar\n",
      "Warning message in st_is_longlat(x):\n",
      "“bounding box has potentially an invalid value range for longlat data”although coordinates are longitude/latitude, st_intersects assumes that they are planar\n"
     ]
    },
    {
     "data": {
      "text/html": [
       "22816"
      ],
      "text/latex": [
       "22816"
      ],
      "text/markdown": [
       "22816"
      ],
      "text/plain": [
       "[1] 22816"
      ]
     },
     "metadata": {},
     "output_type": "display_data"
    }
   ],
   "source": [
    "fao.shp<-st_read(\"/home/bobbranton/geoserver/data_dir/fao/World_Fao_Zones.shp\",quiet=TRUE)\n",
    "fao.pts<-st_as_sf(prov.pts,coords = c('longitude','latitude'), crs = st_crs(fao.shp))\n",
    "fao.intersect<-data.frame(st_intersects(fao.pts, fao.shp))\n",
    "nrow(fao.intersect)\n",
    "\n",
    "prov.pts$fao='99'\n",
    "for(i in 1:nrow(fao.intersect)){\n",
    "    prov.pts$fao[fao.intersect$row.id[i]]<-fao.shp$zone[fao.intersect$col.id[i]]    \n",
    "}"
   ]
  },
  {
   "cell_type": "code",
   "execution_count": 9,
   "id": "804b192d",
   "metadata": {},
   "outputs": [
    {
     "data": {
      "text/html": [
       "128061"
      ],
      "text/latex": [
       "128061"
      ],
      "text/markdown": [
       "128061"
      ],
      "text/plain": [
       "[1] 128061"
      ]
     },
     "metadata": {},
     "output_type": "display_data"
    },
    {
     "data": {
      "text/html": [
       "<table class=\"dataframe\">\n",
       "<caption>A data.frame: 5 × 10</caption>\n",
       "<thead>\n",
       "\t<tr><th></th><th scope=col>prov</th><th scope=col>species</th><th scope=col>year</th><th scope=col>date</th><th scope=col>OCCS</th><th scope=col>DUPS</th><th scope=col>longitude</th><th scope=col>latitude</th><th scope=col>eez</th><th scope=col>fao</th></tr>\n",
       "\t<tr><th></th><th scope=col>&lt;chr&gt;</th><th scope=col>&lt;chr&gt;</th><th scope=col>&lt;int&gt;</th><th scope=col>&lt;date&gt;</th><th scope=col>&lt;dbl&gt;</th><th scope=col>&lt;dbl&gt;</th><th scope=col>&lt;dbl&gt;</th><th scope=col>&lt;dbl&gt;</th><th scope=col>&lt;chr&gt;</th><th scope=col>&lt;chr&gt;</th></tr>\n",
       "</thead>\n",
       "<tbody>\n",
       "\t<tr><th scope=row>1</th><td>inat  </td><td>Carcinus maenas     </td><td>2016</td><td>2016-06-16</td><td>1</td><td>1</td><td>-0.005321</td><td>49.32174</td><td>FRA</td><td>99</td></tr>\n",
       "\t<tr><th scope=row>2</th><td>DUPS  </td><td>Carcinus maenas     </td><td>2016</td><td>2016-06-16</td><td>1</td><td>1</td><td>-0.005321</td><td>49.32174</td><td>FRA</td><td>99</td></tr>\n",
       "\t<tr><th scope=row>3</th><td>gbif  </td><td>Carcinus maenas     </td><td>2016</td><td>2016-06-16</td><td>1</td><td>1</td><td>-0.005321</td><td>49.32174</td><td>FRA</td><td>99</td></tr>\n",
       "\t<tr><th scope=row>4</th><td>UNIQUE</td><td>Carcinus maenas     </td><td>2016</td><td>2016-06-16</td><td>1</td><td>2</td><td>-0.005321</td><td>49.32174</td><td>FRA</td><td>99</td></tr>\n",
       "\t<tr><th scope=row>5</th><td>gbif  </td><td>Dreissena polymorpha</td><td>2006</td><td>2006-03-02</td><td>2</td><td>1</td><td>-0.008887</td><td>51.48449</td><td>GBR</td><td>99</td></tr>\n",
       "</tbody>\n",
       "</table>\n"
      ],
      "text/latex": [
       "A data.frame: 5 × 10\n",
       "\\begin{tabular}{r|llllllllll}\n",
       "  & prov & species & year & date & OCCS & DUPS & longitude & latitude & eez & fao\\\\\n",
       "  & <chr> & <chr> & <int> & <date> & <dbl> & <dbl> & <dbl> & <dbl> & <chr> & <chr>\\\\\n",
       "\\hline\n",
       "\t1 & inat   & Carcinus maenas      & 2016 & 2016-06-16 & 1 & 1 & -0.005321 & 49.32174 & FRA & 99\\\\\n",
       "\t2 & DUPS   & Carcinus maenas      & 2016 & 2016-06-16 & 1 & 1 & -0.005321 & 49.32174 & FRA & 99\\\\\n",
       "\t3 & gbif   & Carcinus maenas      & 2016 & 2016-06-16 & 1 & 1 & -0.005321 & 49.32174 & FRA & 99\\\\\n",
       "\t4 & UNIQUE & Carcinus maenas      & 2016 & 2016-06-16 & 1 & 2 & -0.005321 & 49.32174 & FRA & 99\\\\\n",
       "\t5 & gbif   & Dreissena polymorpha & 2006 & 2006-03-02 & 2 & 1 & -0.008887 & 51.48449 & GBR & 99\\\\\n",
       "\\end{tabular}\n"
      ],
      "text/markdown": [
       "\n",
       "A data.frame: 5 × 10\n",
       "\n",
       "| <!--/--> | prov &lt;chr&gt; | species &lt;chr&gt; | year &lt;int&gt; | date &lt;date&gt; | OCCS &lt;dbl&gt; | DUPS &lt;dbl&gt; | longitude &lt;dbl&gt; | latitude &lt;dbl&gt; | eez &lt;chr&gt; | fao &lt;chr&gt; |\n",
       "|---|---|---|---|---|---|---|---|---|---|---|\n",
       "| 1 | inat   | Carcinus maenas      | 2016 | 2016-06-16 | 1 | 1 | -0.005321 | 49.32174 | FRA | 99 |\n",
       "| 2 | DUPS   | Carcinus maenas      | 2016 | 2016-06-16 | 1 | 1 | -0.005321 | 49.32174 | FRA | 99 |\n",
       "| 3 | gbif   | Carcinus maenas      | 2016 | 2016-06-16 | 1 | 1 | -0.005321 | 49.32174 | FRA | 99 |\n",
       "| 4 | UNIQUE | Carcinus maenas      | 2016 | 2016-06-16 | 1 | 2 | -0.005321 | 49.32174 | FRA | 99 |\n",
       "| 5 | gbif   | Dreissena polymorpha | 2006 | 2006-03-02 | 2 | 1 | -0.008887 | 51.48449 | GBR | 99 |\n",
       "\n"
      ],
      "text/plain": [
       "  prov   species              year date       OCCS DUPS longitude latitude eez\n",
       "1 inat   Carcinus maenas      2016 2016-06-16 1    1    -0.005321 49.32174 FRA\n",
       "2 DUPS   Carcinus maenas      2016 2016-06-16 1    1    -0.005321 49.32174 FRA\n",
       "3 gbif   Carcinus maenas      2016 2016-06-16 1    1    -0.005321 49.32174 FRA\n",
       "4 UNIQUE Carcinus maenas      2016 2016-06-16 1    2    -0.005321 49.32174 FRA\n",
       "5 gbif   Dreissena polymorpha 2006 2006-03-02 2    1    -0.008887 51.48449 GBR\n",
       "  fao\n",
       "1 99 \n",
       "2 99 \n",
       "3 99 \n",
       "4 99 \n",
       "5 99 "
      ]
     },
     "metadata": {},
     "output_type": "display_data"
    }
   ],
   "source": [
    "df.prov<-merge(df.prov,prov.pts,by=c('longitude','latitude'))[,c(3:8,1:2,9:10)]\n",
    "nrow(df.prov)\n",
    "head(df.prov,5)"
   ]
  },
  {
   "cell_type": "code",
   "execution_count": 44,
   "id": "384b9e60",
   "metadata": {},
   "outputs": [
    {
     "data": {
      "text/html": [
       "<style>\n",
       ".list-inline {list-style: none; margin:0; padding: 0}\n",
       ".list-inline>li {display: inline-block}\n",
       ".list-inline>li:not(:last-child)::after {content: \"\\00b7\"; padding: 0 .5ex}\n",
       "</style>\n",
       "<ol class=list-inline><li>'cNames'</li><li>'df'</li><li>'df.agg'</li><li>'df.area'</li><li>'df.clean'</li><li>'df.corr'</li><li>'df.dups'</li><li>'df.exp'</li><li>'df.occ'</li><li>'df.prov'</li><li>'df.raw'</li><li>'df.unique'</li><li>'do.extract'</li><li>'eez.intersect'</li><li>'eez.pts'</li><li>'eez.shp'</li><li>'extract'</li><li>'fao.intersect'</li><li>'fao.pts'</li><li>'fao.shp'</li><li>'fImages'</li><li>'fName'</li><li>'i'</li><li>'intersect'</li><li>'limit'</li><li>'pNames'</li><li>'prov.pts'</li><li>'prov.style'</li><li>'pts'</li><li>'pts.geo'</li><li>'qName'</li><li>'qNames'</li><li>'sColors'</li><li>'species.style'</li><li>'world'</li><li>'xtab'</li></ol>\n"
      ],
      "text/latex": [
       "\\begin{enumerate*}\n",
       "\\item 'cNames'\n",
       "\\item 'df'\n",
       "\\item 'df.agg'\n",
       "\\item 'df.area'\n",
       "\\item 'df.clean'\n",
       "\\item 'df.corr'\n",
       "\\item 'df.dups'\n",
       "\\item 'df.exp'\n",
       "\\item 'df.occ'\n",
       "\\item 'df.prov'\n",
       "\\item 'df.raw'\n",
       "\\item 'df.unique'\n",
       "\\item 'do.extract'\n",
       "\\item 'eez.intersect'\n",
       "\\item 'eez.pts'\n",
       "\\item 'eez.shp'\n",
       "\\item 'extract'\n",
       "\\item 'fao.intersect'\n",
       "\\item 'fao.pts'\n",
       "\\item 'fao.shp'\n",
       "\\item 'fImages'\n",
       "\\item 'fName'\n",
       "\\item 'i'\n",
       "\\item 'intersect'\n",
       "\\item 'limit'\n",
       "\\item 'pNames'\n",
       "\\item 'prov.pts'\n",
       "\\item 'prov.style'\n",
       "\\item 'pts'\n",
       "\\item 'pts.geo'\n",
       "\\item 'qName'\n",
       "\\item 'qNames'\n",
       "\\item 'sColors'\n",
       "\\item 'species.style'\n",
       "\\item 'world'\n",
       "\\item 'xtab'\n",
       "\\end{enumerate*}\n"
      ],
      "text/markdown": [
       "1. 'cNames'\n",
       "2. 'df'\n",
       "3. 'df.agg'\n",
       "4. 'df.area'\n",
       "5. 'df.clean'\n",
       "6. 'df.corr'\n",
       "7. 'df.dups'\n",
       "8. 'df.exp'\n",
       "9. 'df.occ'\n",
       "10. 'df.prov'\n",
       "11. 'df.raw'\n",
       "12. 'df.unique'\n",
       "13. 'do.extract'\n",
       "14. 'eez.intersect'\n",
       "15. 'eez.pts'\n",
       "16. 'eez.shp'\n",
       "17. 'extract'\n",
       "18. 'fao.intersect'\n",
       "19. 'fao.pts'\n",
       "20. 'fao.shp'\n",
       "21. 'fImages'\n",
       "22. 'fName'\n",
       "23. 'i'\n",
       "24. 'intersect'\n",
       "25. 'limit'\n",
       "26. 'pNames'\n",
       "27. 'prov.pts'\n",
       "28. 'prov.style'\n",
       "29. 'pts'\n",
       "30. 'pts.geo'\n",
       "31. 'qName'\n",
       "32. 'qNames'\n",
       "33. 'sColors'\n",
       "34. 'species.style'\n",
       "35. 'world'\n",
       "36. 'xtab'\n",
       "\n",
       "\n"
      ],
      "text/plain": [
       " [1] \"cNames\"        \"df\"            \"df.agg\"        \"df.area\"      \n",
       " [5] \"df.clean\"      \"df.corr\"       \"df.dups\"       \"df.exp\"       \n",
       " [9] \"df.occ\"        \"df.prov\"       \"df.raw\"        \"df.unique\"    \n",
       "[13] \"do.extract\"    \"eez.intersect\" \"eez.pts\"       \"eez.shp\"      \n",
       "[17] \"extract\"       \"fao.intersect\" \"fao.pts\"       \"fao.shp\"      \n",
       "[21] \"fImages\"       \"fName\"         \"i\"             \"intersect\"    \n",
       "[25] \"limit\"         \"pNames\"        \"prov.pts\"      \"prov.style\"   \n",
       "[29] \"pts\"           \"pts.geo\"       \"qName\"         \"qNames\"       \n",
       "[33] \"sColors\"       \"species.style\" \"world\"         \"xtab\"         "
      ]
     },
     "metadata": {},
     "output_type": "display_data"
    }
   ],
   "source": [
    "objects()\n",
    "save(list=objects(),file=fName )           "
   ]
  },
  {
   "cell_type": "code",
   "execution_count": 45,
   "id": "f8c0832f",
   "metadata": {},
   "outputs": [],
   "source": [
    "save(list=c('df.prov','species.style','fao.shp','eez.shp','prov.style'),file=paste('short-',fName,sep=''))"
   ]
  },
  {
   "cell_type": "code",
   "execution_count": null,
   "id": "3e4d7b6b",
   "metadata": {},
   "outputs": [],
   "source": []
  }
 ],
 "metadata": {
  "kernelspec": {
   "display_name": "R",
   "language": "R",
   "name": "ir"
  },
  "language_info": {
   "codemirror_mode": "r",
   "file_extension": ".r",
   "mimetype": "text/x-r-source",
   "name": "R",
   "pygments_lexer": "r",
   "version": "3.6.3"
  }
 },
 "nbformat": 4,
 "nbformat_minor": 5
}
